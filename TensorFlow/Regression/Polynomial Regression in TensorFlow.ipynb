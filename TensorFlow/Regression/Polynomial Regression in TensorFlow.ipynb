{
 "cells": [
  {
   "cell_type": "markdown",
   "metadata": {},
   "source": [
    "# Regression\n",
    "\n",
    "#### What is Regression?\n",
    "Regression is a statistical measurement that is used to try to determine the relationship between a dependent variable (often denoted by Y), and series of varying variables (called independent variables, often denoted by X ).\n",
    "\n",
    "#### What is Polynomial Regression\n",
    "This is a form of Regression Analysis where the relationship between Y and X is denoted as the nth degree/power of X. Polynomial regression even fits a non-linear relationship (e.g when the points don't form a straight line)."
   ]
  },
  {
   "cell_type": "code",
   "execution_count": 1,
   "metadata": {},
   "outputs": [
    {
     "name": "stderr",
     "output_type": "stream",
     "text": [
      "C:\\Users\\Shivam Tyagi\\anaconda3\\lib\\site-packages\\tensorflow\\python\\framework\\dtypes.py:516: FutureWarning: Passing (type, 1) or '1type' as a synonym of type is deprecated; in a future version of numpy, it will be understood as (type, (1,)) / '(1,)type'.\n",
      "  _np_qint8 = np.dtype([(\"qint8\", np.int8, 1)])\n",
      "C:\\Users\\Shivam Tyagi\\anaconda3\\lib\\site-packages\\tensorflow\\python\\framework\\dtypes.py:517: FutureWarning: Passing (type, 1) or '1type' as a synonym of type is deprecated; in a future version of numpy, it will be understood as (type, (1,)) / '(1,)type'.\n",
      "  _np_quint8 = np.dtype([(\"quint8\", np.uint8, 1)])\n",
      "C:\\Users\\Shivam Tyagi\\anaconda3\\lib\\site-packages\\tensorflow\\python\\framework\\dtypes.py:518: FutureWarning: Passing (type, 1) or '1type' as a synonym of type is deprecated; in a future version of numpy, it will be understood as (type, (1,)) / '(1,)type'.\n",
      "  _np_qint16 = np.dtype([(\"qint16\", np.int16, 1)])\n",
      "C:\\Users\\Shivam Tyagi\\anaconda3\\lib\\site-packages\\tensorflow\\python\\framework\\dtypes.py:519: FutureWarning: Passing (type, 1) or '1type' as a synonym of type is deprecated; in a future version of numpy, it will be understood as (type, (1,)) / '(1,)type'.\n",
      "  _np_quint16 = np.dtype([(\"quint16\", np.uint16, 1)])\n",
      "C:\\Users\\Shivam Tyagi\\anaconda3\\lib\\site-packages\\tensorflow\\python\\framework\\dtypes.py:520: FutureWarning: Passing (type, 1) or '1type' as a synonym of type is deprecated; in a future version of numpy, it will be understood as (type, (1,)) / '(1,)type'.\n",
      "  _np_qint32 = np.dtype([(\"qint32\", np.int32, 1)])\n",
      "C:\\Users\\Shivam Tyagi\\anaconda3\\lib\\site-packages\\tensorflow\\python\\framework\\dtypes.py:525: FutureWarning: Passing (type, 1) or '1type' as a synonym of type is deprecated; in a future version of numpy, it will be understood as (type, (1,)) / '(1,)type'.\n",
      "  np_resource = np.dtype([(\"resource\", np.ubyte, 1)])\n"
     ]
    },
    {
     "name": "stdout",
     "output_type": "stream",
     "text": [
      "WARNING:tensorflow:From C:\\Users\\Shivam Tyagi\\anaconda3\\lib\\site-packages\\tensorflow\\python\\compat\\v2_compat.py:61: disable_resource_variables (from tensorflow.python.ops.variable_scope) is deprecated and will be removed in a future version.\n",
      "Instructions for updating:\n",
      "non-resource variables are not supported in the long term\n"
     ]
    },
    {
     "name": "stderr",
     "output_type": "stream",
     "text": [
      "C:\\Users\\Shivam Tyagi\\anaconda3\\lib\\site-packages\\tensorboard\\compat\\tensorflow_stub\\dtypes.py:541: FutureWarning: Passing (type, 1) or '1type' as a synonym of type is deprecated; in a future version of numpy, it will be understood as (type, (1,)) / '(1,)type'.\n",
      "  _np_qint8 = np.dtype([(\"qint8\", np.int8, 1)])\n",
      "C:\\Users\\Shivam Tyagi\\anaconda3\\lib\\site-packages\\tensorboard\\compat\\tensorflow_stub\\dtypes.py:542: FutureWarning: Passing (type, 1) or '1type' as a synonym of type is deprecated; in a future version of numpy, it will be understood as (type, (1,)) / '(1,)type'.\n",
      "  _np_quint8 = np.dtype([(\"quint8\", np.uint8, 1)])\n",
      "C:\\Users\\Shivam Tyagi\\anaconda3\\lib\\site-packages\\tensorboard\\compat\\tensorflow_stub\\dtypes.py:543: FutureWarning: Passing (type, 1) or '1type' as a synonym of type is deprecated; in a future version of numpy, it will be understood as (type, (1,)) / '(1,)type'.\n",
      "  _np_qint16 = np.dtype([(\"qint16\", np.int16, 1)])\n",
      "C:\\Users\\Shivam Tyagi\\anaconda3\\lib\\site-packages\\tensorboard\\compat\\tensorflow_stub\\dtypes.py:544: FutureWarning: Passing (type, 1) or '1type' as a synonym of type is deprecated; in a future version of numpy, it will be understood as (type, (1,)) / '(1,)type'.\n",
      "  _np_quint16 = np.dtype([(\"quint16\", np.uint16, 1)])\n",
      "C:\\Users\\Shivam Tyagi\\anaconda3\\lib\\site-packages\\tensorboard\\compat\\tensorflow_stub\\dtypes.py:545: FutureWarning: Passing (type, 1) or '1type' as a synonym of type is deprecated; in a future version of numpy, it will be understood as (type, (1,)) / '(1,)type'.\n",
      "  _np_qint32 = np.dtype([(\"qint32\", np.int32, 1)])\n",
      "C:\\Users\\Shivam Tyagi\\anaconda3\\lib\\site-packages\\tensorboard\\compat\\tensorflow_stub\\dtypes.py:550: FutureWarning: Passing (type, 1) or '1type' as a synonym of type is deprecated; in a future version of numpy, it will be understood as (type, (1,)) / '(1,)type'.\n",
      "  np_resource = np.dtype([(\"resource\", np.ubyte, 1)])\n"
     ]
    }
   ],
   "source": [
    "# Importing Libraries\n",
    "import pandas as pd\n",
    "import numpy as np\n",
    "import matplotlib.pyplot as plt\n",
    "import tensorflow.compat.v1 as tf\n",
    "tf.disable_v2_behavior()"
   ]
  },
  {
   "cell_type": "markdown",
   "metadata": {},
   "source": [
    "## Importing the dataset and inspecting it"
   ]
  },
  {
   "cell_type": "code",
   "execution_count": 2,
   "metadata": {},
   "outputs": [
    {
     "name": "stdout",
     "output_type": "stream",
     "text": [
      "            Position  Level   Salary\n",
      "0   Business Analyst      1    45000\n",
      "1  Junior Consultant      2    50000\n",
      "2  Senior Consultant      3    60000\n",
      "3            Manager      4    80000\n",
      "4    Country Manager      5   110000\n",
      "5     Region Manager      6   150000\n",
      "6            Partner      7   200000\n",
      "7     Senior Partner      8   300000\n",
      "8            C-level      9   500000\n",
      "9                CEO     10  1000000\n"
     ]
    }
   ],
   "source": [
    "dataset = pd.read_csv(\"D:/Code/ML_AI_Course/Machine Learning A-Z New/Part 2 - Regression/Section 6 - Polynomial Regression/Position_Salaries.csv\")\n",
    "X = dataset[\"Level\"].to_list()\n",
    "y = dataset[\"Salary\"].to_list()\n",
    "print(dataset)"
   ]
  },
  {
   "cell_type": "markdown",
   "metadata": {},
   "source": [
    "### Plotting the dataset"
   ]
  },
  {
   "cell_type": "code",
   "execution_count": 3,
   "metadata": {},
   "outputs": [
    {
     "data": {
      "image/png": "[encoded data removed]",
      "text/plain": [
       "<Figure size 432x288 with 1 Axes>"
      ]
     },
     "metadata": {
      "needs_background": "light"
     },
     "output_type": "display_data"
    }
   ],
   "source": [
    "n = len(X)\n",
    "plt.scatter(X, y)\n",
    "plt.xlabel(\"Position\")\n",
    "plt.ylabel(\"Salary\")\n",
    "plt.title(\"Position Vs Salary\")\n",
    "plt.show()"
   ]
  },
  {
   "cell_type": "markdown",
   "metadata": {},
   "source": [
    "## Now lets start training our model\n",
    "\n",
    "### First we define our variables"
   ]
  },
  {
   "cell_type": "code",
   "execution_count": 4,
   "metadata": {},
   "outputs": [],
   "source": [
    "px = tf.placeholder(\"float\")\n",
    "py = tf.placeholder(\"float\")\n",
    "\n",
    "# Defining Variables\n",
    "a = tf.Variable(np.random.randn(), name = \"a\")\n",
    "b = tf.Variable(np.random.randn(), name = \"b\")\n",
    "c = tf.Variable(np.random.randn(), name = \"c\")\n",
    "d = tf.Variable(np.random.randn(), name = \"d\")\n",
    "e = tf.Variable(np.random.randn(), name = \"e\")\n",
    "f = tf.Variable(np.random.randn(), name = \"f\")\n",
    "\n",
    "learning_rate = 0.2\n",
    "training_epochs = 20000"
   ]
  },
  {
   "cell_type": "markdown",
   "metadata": {},
   "source": [
    "### Now we write the various equations we will use for our project"
   ]
  },
  {
   "cell_type": "code",
   "execution_count": 5,
   "metadata": {},
   "outputs": [],
   "source": [
    "deg1 = a*px + b\n",
    "deg2 = a*tf.pow(px,2) + b*px + c\n",
    "deg3 = a*tf.pow(px,3) + b*tf.pow(px,2) + c*px + d\n",
    "deg4 = a*tf.pow(px,4) + b*tf.pow(px,3) + c*tf.pow(px,2) + d*px + e\n",
    "deg5 = a*tf.pow(px,5) + b*tf.pow(px,4) + c*tf.pow(px,3) + d*tf.pow(px,2) + e*px + f"
   ]
  },
  {
   "cell_type": "markdown",
   "metadata": {},
   "source": [
    "### Now lets write our cost equations"
   ]
  },
  {
   "cell_type": "code",
   "execution_count": 6,
   "metadata": {},
   "outputs": [],
   "source": [
    "mse1 = tf.reduce_sum(tf.pow(deg1-py,2))/(2*n)\n",
    "mse2 = tf.reduce_sum(tf.pow(deg2-py,2))/(2*n)\n",
    "mse3 = tf.reduce_sum(tf.pow(deg3-py,2))/(2*n)\n",
    "mse4 = tf.reduce_sum(tf.pow(deg4-py,2))/(2*n)\n",
    "mse5 = tf.reduce_sum(tf.pow(deg5-py,2))/(2*n)"
   ]
  },
  {
   "cell_type": "markdown",
   "metadata": {},
   "source": [
    "### And lastly create our optimizer functions"
   ]
  },
  {
   "cell_type": "code",
   "execution_count": 7,
   "metadata": {},
   "outputs": [
    {
     "name": "stdout",
     "output_type": "stream",
     "text": [
      "WARNING:tensorflow:From C:\\Users\\Shivam Tyagi\\anaconda3\\lib\\site-packages\\tensorflow\\python\\ops\\math_grad.py:1205: add_dispatch_support.<locals>.wrapper (from tensorflow.python.ops.array_ops) is deprecated and will be removed in a future version.\n",
      "Instructions for updating:\n",
      "Use tf.where in 2.0, which has the same broadcast rule as np.where\n"
     ]
    }
   ],
   "source": [
    "optimizer1 = tf.train.GradientDescentOptimizer(learning_rate).minimize(mse1)\n",
    "optimizer2 = tf.train.AdamOptimizer(learning_rate).minimize(mse2)\n",
    "optimizer3 = tf.train.AdamOptimizer(learning_rate).minimize(mse3)\n",
    "optimizer4 = tf.train.AdamOptimizer(learning_rate).minimize(mse4)\n",
    "optimizer5 = tf.train.AdamOptimizer(learning_rate).minimize(mse5)"
   ]
  },
  {
   "cell_type": "markdown",
   "metadata": {},
   "source": [
    "## First we look at our model, when linearly trained"
   ]
  },
  {
   "cell_type": "code",
   "execution_count": 8,
   "metadata": {},
   "outputs": [
    {
     "name": "stdout",
     "output_type": "stream",
     "text": [
      "Epoch 1000 : Training Cost: 88999160000.0  a,b: 180396.44 -478869.1\n",
      "Epoch 2000 : Training Cost: 88999160000.0  a,b: 180396.44 -478869.1\n",
      "Epoch 3000 : Training Cost: 88999160000.0  a,b: 180396.44 -478869.1\n",
      "Epoch 4000 : Training Cost: 88999160000.0  a,b: 180396.44 -478869.1\n",
      "Epoch 5000 : Training Cost: 88999160000.0  a,b: 180396.44 -478869.1\n",
      "Epoch 6000 : Training Cost: 88999160000.0  a,b: 180396.44 -478869.1\n",
      "Epoch 7000 : Training Cost: 88999160000.0  a,b: 180396.44 -478869.1\n",
      "Epoch 8000 : Training Cost: 88999160000.0  a,b: 180396.44 -478869.1\n",
      "Epoch 9000 : Training Cost: 88999160000.0  a,b: 180396.44 -478869.1\n",
      "Epoch 10000 : Training Cost: 88999160000.0  a,b: 180396.44 -478869.1\n",
      "Epoch 11000 : Training Cost: 88999160000.0  a,b: 180396.44 -478869.1\n",
      "Epoch 12000 : Training Cost: 88999160000.0  a,b: 180396.44 -478869.1\n",
      "Epoch 13000 : Training Cost: 88999160000.0  a,b: 180396.44 -478869.1\n",
      "Epoch 14000 : Training Cost: 88999160000.0  a,b: 180396.44 -478869.1\n",
      "Epoch 15000 : Training Cost: 88999160000.0  a,b: 180396.44 -478869.1\n",
      "Epoch 16000 : Training Cost: 88999160000.0  a,b: 180396.44 -478869.1\n",
      "Epoch 17000 : Training Cost: 88999160000.0  a,b: 180396.44 -478869.1\n",
      "Epoch 18000 : Training Cost: 88999160000.0  a,b: 180396.44 -478869.1\n",
      "Epoch 19000 : Training Cost: 88999160000.0  a,b: 180396.44 -478869.1\n",
      "Epoch 20000 : Training Cost: 88999160000.0  a,b: 180396.44 -478869.1\n",
      "88999160000.0 180396.44 -478869.1\n"
     ]
    }
   ],
   "source": [
    "# Initializing and starting session\n",
    "init = tf.global_variables_initializer()\n",
    "\n",
    "with tf.Session() as sess:\n",
    "    sess.run(init)\n",
    "    for epoch in range(training_epochs):\n",
    "        for (_x, _y) in zip(X, y):\n",
    "            sess.run(optimizer1, feed_dict = {px:_x, py:_y})\n",
    "        if (epoch+1) % 1000 == 0:\n",
    "            cost = sess.run(mse1, feed_dict = {px:X, py:y})\n",
    "            print(\"Epoch\",(epoch+1), \": Training Cost:\", cost,\" a,b:\",\n",
    "                  sess.run(a), sess.run(b))\n",
    "\n",
    "        training_cost = sess.run(mse1,feed_dict={px:X,py:y})\n",
    "        coefficient1 = sess.run(a)\n",
    "        constant = sess.run(b)\n",
    "\n",
    "print(training_cost, coefficient1, constant)"
   ]
  },
  {
   "cell_type": "markdown",
   "metadata": {},
   "source": [
    "## Lets plot this and see the result"
   ]
  },
  {
   "cell_type": "code",
   "execution_count": 9,
   "metadata": {},
   "outputs": [
    {
     "data": {
      "image/png": "[encoded data removed]",
      "text/plain": [
       "<Figure size 432x288 with 1 Axes>"
      ]
     },
     "metadata": {
      "needs_background": "light"
     },
     "output_type": "display_data"
    }
   ],
   "source": [
    "predictions = []\n",
    "for i in X:\n",
    "  predictions.append((coefficient1*i + constant))\n",
    "plt.plot(X , y, 'ro', label ='Original data')\n",
    "plt.plot(X, predictions, label ='Fitted line')\n",
    "plt.title('Linear Regression Result')\n",
    "plt.legend()\n",
    "plt.show()"
   ]
  },
  {
   "cell_type": "markdown",
   "metadata": {},
   "source": [
    "The dataset was clearly not linear, yet our model tried its best to create a straight line\n",
    "such that it would most fit our dataset.\n",
    "\n",
    "But now, we move up to Quadratic Equation and higher to see how well it performs on this dataset.\n",
    "\n",
    "# Quadratic Equation"
   ]
  },
  {
   "cell_type": "code",
   "execution_count": 10,
   "metadata": {},
   "outputs": [
    {
     "name": "stdout",
     "output_type": "stream",
     "text": [
      "Epoch 1000 : Training Cost: 52583105000.0  a,b,c: 1001.43335 1099.052 1277.0342\n",
      "Epoch 2000 : Training Cost: 37808060000.0  a,b,c: 1951.4474 2132.3525 2470.1538\n",
      "Epoch 3000 : Training Cost: 26758003000.0  a,b,c: 2838.6467 3083.7375 3554.7861\n",
      "Epoch 4000 : Training Cost: 19024870000.0  a,b,c: 3643.6812 3925.1594 4486.8413\n",
      "Epoch 5000 : Training Cost: 14063549000.0  a,b,c: 4344.2354 4623.7236 5213.3467\n",
      "Epoch 6000 : Training Cost: 11202960000.0  a,b,c: 4920.469 5150.5586 5689.8804\n",
      "Epoch 7000 : Training Cost: 9733856000.0  a,b,c: 5364.14 5495.544 5907.705\n",
      "Epoch 8000 : Training Cost: 9051619000.0  a,b,c: 5684.8667 5675.8037 5903.1313\n",
      "Epoch 9000 : Training Cost: 8750910000.0  a,b,c: 5906.5063 5727.587 5735.876\n",
      "Epoch 10000 : Training Cost: 8613565000.0  a,b,c: 6056.9385 5690.0767 5462.322\n",
      "Epoch 11000 : Training Cost: 8540440000.0  a,b,c: 6160.1445 5595.067 5124.019\n",
      "Epoch 12000 : Training Cost: 8491372500.0  a,b,c: 6233.534 5464.803 4748.256\n",
      "Epoch 13000 : Training Cost: 8451198500.0  a,b,c: 6288.6772 5313.5405 4351.822\n",
      "Epoch 14000 : Training Cost: 8414459000.0  a,b,c: 6332.8364 5150.174 3945.0112\n",
      "Epoch 15000 : Training Cost: 8379212000.0  a,b,c: 6370.437 4979.9463 3533.5447\n",
      "Epoch 16000 : Training Cost: 8344838000.0  a,b,c: 6404.113 4806.3145 3121.2593\n",
      "Epoch 17000 : Training Cost: 8311144400.0  a,b,c: 6435.014 4630.9136 2710.174\n",
      "Epoch 18000 : Training Cost: 8277837300.0  a,b,c: 6465.1997 4454.5933 2301.2722\n",
      "Epoch 19000 : Training Cost: 8245003300.0  a,b,c: 6494.2627 4277.5796 1895.329\n",
      "Epoch 20000 : Training Cost: 8212698600.0  a,b,c: 6522.481 4100.92 1492.9105\n",
      "8212698600.0 6522.481 4100.92 1492.9105\n"
     ]
    },
    {
     "data": {
      "image/png": "[encoded data removed]",
      "text/plain": [
       "<Figure size 432x288 with 1 Axes>"
      ]
     },
     "metadata": {
      "needs_background": "light"
     },
     "output_type": "display_data"
    }
   ],
   "source": [
    "with tf.Session() as sess:\n",
    "    sess.run(init)\n",
    "    for epoch in range(training_epochs):\n",
    "      for (_x,_y) in zip(X, y):\n",
    "        sess.run(optimizer2, feed_dict={px:_x, py:_y})\n",
    "      if (epoch+1) % 1000 == 0:\n",
    "        cost = sess.run(mse2,feed_dict={px:X, py:y})\n",
    "        print(\"Epoch\",(epoch+1), \": Training Cost:\", cost,\n",
    "              \" a,b,c:\",sess.run(a),sess.run(b),sess.run(c))\n",
    "\n",
    "        training_cost = sess.run(mse2,feed_dict={px:X, py:y})\n",
    "        coefficient1 = sess.run(a)\n",
    "        coefficient2 = sess.run(b)\n",
    "        constant = sess.run(c)\n",
    "\n",
    "print(training_cost, coefficient1, coefficient2, constant)\n",
    "\n",
    "# Plotting the results\n",
    "predictions = []\n",
    "for i in X:\n",
    "  predictions.append((coefficient1*pow(i,2) + coefficient2*i + constant))\n",
    "plt.plot(X , y, 'ro', label ='Original data')\n",
    "plt.plot(X, predictions, label ='Fitted line')\n",
    "plt.title('Quadratic Regression Result')\n",
    "plt.legend()\n",
    "plt.show()"
   ]
  },
  {
   "cell_type": "markdown",
   "metadata": {},
   "source": [
    "As expected the cost function keeps decreasing as the values try to fit onto our model.\n",
    "\n",
    "# Cubic Equation"
   ]
  },
  {
   "cell_type": "code",
   "execution_count": 11,
   "metadata": {},
   "outputs": [
    {
     "name": "stdout",
     "output_type": "stream",
     "text": [
      "Epoch 1000 : Training Cost: 4284908300.0  a,b,c,d: 669.5689 696.9524 752.36945 905.9054\n",
      "Epoch 2000 : Training Cost: 3772160000.0  a,b,c,d: 742.30994 669.14276 638.07166 861.2135\n",
      "Epoch 3000 : Training Cost: 3718854000.0  a,b,c,d: 755.93555 572.08844 449.0899 749.9063\n",
      "Epoch 4000 : Training Cost: 3668554500.0  a,b,c,d: 769.129 476.7509 266.43677 656.0923\n",
      "Epoch 5000 : Training Cost: 3621077000.0  a,b,c,d: 782.0107 383.22635 90.13688 579.5258\n",
      "Epoch 6000 : Training Cost: 3576253200.0  a,b,c,d: 794.58203 291.48154 -79.90416 519.83154\n",
      "Epoch 7000 : Training Cost: 3533908000.0  a,b,c,d: 806.8618 201.48514 -243.81102 476.5936\n",
      "Epoch 8000 : Training Cost: 3493900300.0  a,b,c,d: 818.83936 113.22328 -401.68317 449.41635\n",
      "Epoch 9000 : Training Cost: 3456077000.0  a,b,c,d: 830.5139 26.643007 -553.6573 437.85797\n",
      "Epoch 10000 : Training Cost: 3420284200.0  a,b,c,d: 841.9334 -58.28144 -699.85223 441.49283\n",
      "Epoch 11000 : Training Cost: 3386398200.0  a,b,c,d: 853.0586 -141.60371 -840.4149 459.8674\n",
      "Epoch 12000 : Training Cost: 3354283800.0  a,b,c,d: 863.9185 -223.36066 -975.4762 492.54068\n",
      "Epoch 13000 : Training Cost: 3323830000.0  a,b,c,d: 874.51074 -303.5683 -1105.1481 539.0984\n",
      "Epoch 14000 : Training Cost: 3294933200.0  a,b,c,d: 884.8387 -382.2448 -1229.5363 599.1072\n",
      "Epoch 15000 : Training Cost: 3267470000.0  a,b,c,d: 894.931 -459.45663 -1348.8014 672.1142\n",
      "Epoch 16000 : Training Cost: 3241357300.0  a,b,c,d: 904.7606 -535.2069 -1463.076 757.6861\n",
      "Epoch 17000 : Training Cost: 3216493300.0  a,b,c,d: 914.35315 -609.56116 -1572.4572 855.4098\n",
      "Epoch 18000 : Training Cost: 3192792300.0  a,b,c,d: 923.7184 -682.5314 -1677.1105 964.8337\n",
      "Epoch 19000 : Training Cost: 3170188000.0  a,b,c,d: 932.8481 -754.1061 -1777.1561 1085.5386\n",
      "Epoch 20000 : Training Cost: 3148582400.0  a,b,c,d: 941.75854 -824.3988 -1872.7532 1217.0846\n",
      "3148582400.0 941.75854 -824.3988 -1872.7532 1217.0846\n"
     ]
    },
    {
     "data": {
      "image/png": "[encoded data removed]",
      "text/plain": [
       "<Figure size 432x288 with 1 Axes>"
      ]
     },
     "metadata": {
      "needs_background": "light"
     },
     "output_type": "display_data"
    }
   ],
   "source": [
    "with tf.Session() as sess:\n",
    "    sess.run(init)\n",
    "    for epoch in range(training_epochs):\n",
    "      for (_x,_y) in zip(X, y):\n",
    "        sess.run(optimizer3, feed_dict={px:_x, py:_y})\n",
    "      if (epoch+1) % 1000 == 0:\n",
    "        cost = sess.run(mse3,feed_dict={px:X, py:y})\n",
    "        print(\"Epoch\",(epoch+1), \": Training Cost:\", cost,\n",
    "              \" a,b,c,d:\",sess.run(a),sess.run(b),sess.run(c),sess.run(d))\n",
    "\n",
    "        training_cost = sess.run(mse3,feed_dict={px:X, py:y})\n",
    "        coefficient1 = sess.run(a)\n",
    "        coefficient2 = sess.run(b)\n",
    "        coefficient3 = sess.run(c)\n",
    "        constant = sess.run(d)\n",
    "\n",
    "print(training_cost, coefficient1, coefficient2, coefficient3, constant)\n",
    "\n",
    "# Plotting the results\n",
    "predictions = []\n",
    "for i in X:\n",
    "  predictions.append((coefficient1*pow(i,3) + coefficient2*pow(i,2) + \n",
    "                      coefficient3*i + constant))\n",
    "plt.plot(X , y, 'ro', label ='Original data')\n",
    "plt.plot(X, predictions, label ='Fitted line')\n",
    "plt.title('Cubic Regression Result')\n",
    "plt.legend()\n",
    "plt.show()"
   ]
  },
  {
   "cell_type": "markdown",
   "metadata": {},
   "source": [
    "# Quartic Equation"
   ]
  },
  {
   "cell_type": "code",
   "execution_count": 12,
   "metadata": {},
   "outputs": [
    {
     "name": "stdout",
     "output_type": "stream",
     "text": [
      "Epoch 1000 : Training Cost: 1905176800.0  a,b,c,d: 84.19044 54.851273 55.366104 143.2125 509.769\n",
      "Epoch 2000 : Training Cost: 1856336800.0  a,b,c,d: 88.746124 15.455679 14.076055 222.58315 1051.5432\n",
      "Epoch 3000 : Training Cost: 1814501000.0  a,b,c,d: 92.72613 -20.163652 -16.100618 325.09555 1627.9116\n",
      "Epoch 4000 : Training Cost: 1777194200.0  a,b,c,d: 96.23184 -52.65283 -37.182877 446.10632 2230.546\n",
      "Epoch 5000 : Training Cost: 1742840200.0  a,b,c,d: 99.35277 -82.5882 -50.94512 581.62115 2852.6936\n",
      "Epoch 6000 : Training Cost: 1710463500.0  a,b,c,d: 102.164986 -110.45998 -58.895805 728.30286 3488.9175\n",
      "Epoch 7000 : Training Cost: 1679467300.0  a,b,c,d: 104.73147 -136.6758 -62.28405 883.418 4134.9683\n",
      "Epoch 8000 : Training Cost: 1649506200.0  a,b,c,d: 107.104195 -161.57117 -62.124294 1044.7722 4787.2515\n",
      "Epoch 9000 : Training Cost: 1620376600.0  a,b,c,d: 109.32446 -185.41713 -59.22458 1210.6239 5442.9214\n",
      "Epoch 10000 : Training Cost: 1591935900.0  a,b,c,d: 111.4257 -208.43161 -54.220837 1379.629 6100.957\n",
      "Epoch 11000 : Training Cost: 1564133600.0  a,b,c,d: 113.43224 -230.77219 -47.616318 1550.7668 6758.956\n",
      "Epoch 12000 : Training Cost: 1536927100.0  a,b,c,d: 115.36353 -252.56259 -39.79741 1723.0994 7416.2695\n",
      "Epoch 13000 : Training Cost: 1510307800.0  a,b,c,d: 117.23407 -273.8951 -31.065968 1896.0433 8071.174\n",
      "Epoch 14000 : Training Cost: 1484258200.0  a,b,c,d: 119.057556 -294.86298 -21.649693 2069.112 8722.647\n",
      "Epoch 15000 : Training Cost: 1458740600.0  a,b,c,d: 120.84459 -315.54434 -11.70886 2241.8047 9371.5205\n",
      "Epoch 16000 : Training Cost: 1433772400.0  a,b,c,d: 122.59843 -335.94916 -1.3766164 2414.0393 10016.2705\n",
      "Epoch 17000 : Training Cost: 1409341000.0  a,b,c,d: 124.32333 -356.10406 9.241413 2585.7747 10656.66\n",
      "Epoch 18000 : Training Cost: 1385437000.0  a,b,c,d: 126.025795 -376.05643 20.064232 2756.602 11292.671\n",
      "Epoch 19000 : Training Cost: 1362056600.0  a,b,c,d: 127.70916 -395.83197 31.04748 2926.5676 11923.438\n",
      "Epoch 20000 : Training Cost: 1339211000.0  a,b,c,d: 129.37143 -415.40063 42.14194 3095.3381 12549.084\n",
      "1339211000.0 129.37143 -415.40063 42.14194 3095.3381 12549.084\n"
     ]
    },
    {
     "data": {
      "image/png": "[encoded data removed]",
      "text/plain": [
       "<Figure size 432x288 with 1 Axes>"
      ]
     },
     "metadata": {
      "needs_background": "light"
     },
     "output_type": "display_data"
    }
   ],
   "source": [
    "with tf.Session() as sess:\n",
    "    sess.run(init)\n",
    "    for epoch in range(training_epochs):\n",
    "      for (_x,_y) in zip(X, y):\n",
    "        sess.run(optimizer4, feed_dict={px:_x, py:_y})\n",
    "      if (epoch+1) % 1000 == 0:\n",
    "        cost = sess.run(mse4,feed_dict={px:X, py:y})\n",
    "        print(\"Epoch\",(epoch+1), \": Training Cost:\", cost,\n",
    "              \" a,b,c,d:\",sess.run(a),sess.run(b),\n",
    "              sess.run(c),sess.run(d),sess.run(e))\n",
    "\n",
    "        training_cost = sess.run(mse4,feed_dict={px:X, py:y})\n",
    "        coefficient1 = sess.run(a)\n",
    "        coefficient2 = sess.run(b)\n",
    "        coefficient3 = sess.run(c)\n",
    "        coefficient4 = sess.run(d)\n",
    "        constant = sess.run(e)\n",
    "\n",
    "print(training_cost, coefficient1, coefficient2,\n",
    "      coefficient3, coefficient4, constant)\n",
    "\n",
    "# Plotting the results\n",
    "predictions = []\n",
    "for i in X:\n",
    "  predictions.append((coefficient1*pow(i,4) + coefficient2*pow(i,3)+\n",
    "                      coefficient3*pow(i,2) + coefficient4*i + constant))\n",
    "plt.plot(X, y, 'ro', label ='Original data')\n",
    "plt.plot(X, predictions, label ='Fitted line')\n",
    "plt.title('Quartic Regression Result')\n",
    "plt.legend()\n",
    "plt.show()"
   ]
  },
  {
   "cell_type": "markdown",
   "metadata": {},
   "source": [
    "# Quintic Equation"
   ]
  },
  {
   "cell_type": "code",
   "execution_count": 13,
   "metadata": {},
   "outputs": [
    {
     "name": "stdout",
     "output_type": "stream",
     "text": [
      "Epoch 1000 : Training Cost: 1414952400.0  a,b,c,d,e,f: 7.8360844 8.968988 52.53185 177.1937 468.99396 1005.04865\n",
      "Epoch 2000 : Training Cost: 1312640300.0  a,b,c,d,e,f: 8.63682 -2.629379 69.82851 308.21442 888.24365 1985.2036\n",
      "Epoch 3000 : Training Cost: 1218106200.0  a,b,c,d,e,f: 9.63952 -15.543693 82.82758 429.3778 1289.2927 2946.4607\n",
      "Epoch 4000 : Training Cost: 1128869200.0  a,b,c,d,e,f: 10.656633 -28.479052 95.14795 547.7208 1682.9066 3898.3203\n",
      "Epoch 5000 : Training Cost: 1044656060.0  a,b,c,d,e,f: 11.663057 -41.25882 107.25411 664.1143 2070.2427 4841.464\n",
      "Epoch 6000 : Training Cost: 965361660.0  a,b,c,d,e,f: 12.654948 -53.85322 119.21064 778.566 2451.1113 5775.2295\n",
      "Epoch 7000 : Training Cost: 890875900.0  a,b,c,d,e,f: 13.631286 -66.25108 131.01236 891.0372 2825.2168 6698.8086\n",
      "Epoch 8000 : Training Cost: 821093800.0  a,b,c,d,e,f: 14.5910015 -78.44134 142.66458 1001.44147 3192.2065 7611.2964\n",
      "Epoch 9000 : Training Cost: 755902600.0  a,b,c,d,e,f: 15.533741 -90.417244 154.15535 1109.6519 3551.6802 8511.838\n",
      "Epoch 10000 : Training Cost: 695194750.0  a,b,c,d,e,f: 16.458164 -102.16563 165.49072 1215.6387 3903.1985 9398.522\n",
      "Epoch 11000 : Training Cost: 638828200.0  a,b,c,d,e,f: 17.363848 -113.67915 176.65773 1319.2847 4246.4453 10270.77\n",
      "Epoch 12000 : Training Cost: 586687600.0  a,b,c,d,e,f: 18.249752 -124.9458 187.65672 1420.4686 4580.863 11126.832\n",
      "Epoch 13000 : Training Cost: 538623400.0  a,b,c,d,e,f: 19.114878 -135.95406 198.48587 1519.0945 4906.004 11965.7295\n",
      "Epoch 14000 : Training Cost: 494487650.0  a,b,c,d,e,f: 19.958206 -146.69301 209.14587 1615.1022 5221.5884 12785.196\n",
      "Epoch 15000 : Training Cost: 454115140.0  a,b,c,d,e,f: 20.779179 -157.15501 219.63123 1708.4081 5527.1323 13583.931\n",
      "Epoch 16000 : Training Cost: 417340320.0  a,b,c,d,e,f: 21.57682 -167.32956 229.94466 1798.9482 5822.1943 14360.243\n",
      "Epoch 17000 : Training Cost: 383993600.0  a,b,c,d,e,f: 22.350433 -177.20804 240.08632 1886.6165 6106.3877 15111.982\n",
      "Epoch 18000 : Training Cost: 353902340.0  a,b,c,d,e,f: 23.099112 -186.77896 250.04437 1971.3346 6379.24 15837.189\n",
      "Epoch 19000 : Training Cost: 326867300.0  a,b,c,d,e,f: 23.822077 -196.03557 259.836 2053.0498 6640.55 16534.213\n",
      "Epoch 20000 : Training Cost: 302701060.0  a,b,c,d,e,f: 24.519003 -204.97273 269.45172 2131.7336 6889.9424 17200.93\n",
      "302701060.0 24.519003 -204.97273 269.45172 2131.7336 6889.9424 17200.93\n"
     ]
    },
    {
     "data": {
      "image/png": "[encoded data removed]",
      "text/plain": [
       "<Figure size 432x288 with 1 Axes>"
      ]
     },
     "metadata": {
      "needs_background": "light"
     },
     "output_type": "display_data"
    }
   ],
   "source": [
    "with tf.Session() as sess:\n",
    "    sess.run(init)\n",
    "    for epoch in range(training_epochs):\n",
    "      for (_x,_y) in zip(X, y):\n",
    "        sess.run(optimizer5, feed_dict={px:_x, py:_y})\n",
    "      if (epoch+1) % 1000 == 0:\n",
    "        cost = sess.run(mse5,feed_dict={px:X, py:y})\n",
    "        print(\"Epoch\",(epoch+1), \": Training Cost:\", cost,\n",
    "              \" a,b,c,d,e,f:\",sess.run(a),sess.run(b),sess.run(c),\n",
    "              sess.run(d),sess.run(e),sess.run(f))\n",
    "\n",
    "        training_cost = sess.run(mse5,feed_dict={px:X, py:y})\n",
    "        coefficient1 = sess.run(a)\n",
    "        coefficient2 = sess.run(b)\n",
    "        coefficient3 = sess.run(c)\n",
    "        coefficient4 = sess.run(d)\n",
    "        coefficient5 = sess.run(e)\n",
    "        constant = sess.run(f)\n",
    "        \n",
    "print(training_cost, coefficient1, coefficient2,\n",
    "      coefficient3, coefficient4,coefficient5, constant)\n",
    "\n",
    "# Plotting the results\n",
    "predictions = []\n",
    "for i in X:\n",
    "  predictions.append((coefficient1*pow(i,5) + coefficient2*pow(i,4)+\n",
    "                      coefficient3*pow(i,3) + coefficient4*pow(i,2)+\n",
    "                      coefficient5*i + constant))\n",
    "plt.plot(X, y, 'ro', label ='Original data')\n",
    "plt.plot(X, predictions, label ='Fitted line')\n",
    "plt.title('Quintic Regression Result')\n",
    "plt.legend()\n",
    "plt.show()"
   ]
  },
  {
   "cell_type": "code",
   "execution_count": null,
   "metadata": {},
   "outputs": [],
   "source": []
  }
 ],
 "metadata": {
  "kernelspec": {
   "display_name": "Python 3",
   "language": "python",
   "name": "python3"
  },
  "language_info": {
   "codemirror_mode": {
    "name": "ipython",
    "version": 3
   },
   "file_extension": ".py",
   "mimetype": "text/x-python",
   "name": "python",
   "nbconvert_exporter": "python",
   "pygments_lexer": "ipython3",
   "version": "3.7.6"
  }
 },
 "nbformat": 4,
 "nbformat_minor": 4
}
