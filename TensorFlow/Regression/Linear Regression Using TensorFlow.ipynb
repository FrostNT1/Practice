{
 "cells": [
  {
   "cell_type": "markdown",
   "metadata": {},
   "source": [
    "# Linear Regression Using Tensorflow\n",
    "\n",
    "Linear Regression is a very common statistical method that allows us to learn a function or relationship from a given set of continuous data. For example, we are given some data points of x and corresponding y and we need to learn the relationship between them that is called a hypothesis.\n",
    "\n",
    "In case of Linear regression, the hypothesis is a straight line, i.e,\n",
    " h(x) = wx + b \n",
    "Where w is a vector called Weights and b is a scalar called Bias. The Weights and Bias are called the parameters of the model.\n",
    "\n",
    "All we need to do is estimate the value of w and b from the given set of data such that the resultant hypothesis produces the least cost J which is defined by the following cost function\n",
    " J(w, b) = \\frac{1}{2m} \\sum_{i=1}^{m} (y_i - h(x_i)) ^ 2 \n",
    "where m is the number of data points in the given dataset. This cost function is also called Mean Squared Error.\n",
    "\n",
    "For finding the optimized value of the parameters for which J is minimum, we will be using a commonly used optimizer algorithm called Gradient Descent.\n",
    "\n",
    "Repeat untill Convergence {\n",
    "    w = w - α * δJ/δw\n",
    "    b = b - α * δJ/δb}\n",
    "}"
   ]
  },
  {
   "cell_type": "code",
   "execution_count": 2,
   "metadata": {},
   "outputs": [],
   "source": [
    "import numpy as np \n",
    "import matplotlib.pyplot as plt"
   ]
  },
  {
   "cell_type": "code",
   "execution_count": 3,
   "metadata": {},
   "outputs": [],
   "source": [
    "import tensorflow as tf"
   ]
  },
  {
   "cell_type": "code",
   "execution_count": 30,
   "metadata": {},
   "outputs": [],
   "source": [
    "# Creating 50 data points between 0 and 50\n",
    "x, y = np.linspace(0, 50, 50), np.linspace(0, 50, 50)"
   ]
  },
  {
   "cell_type": "code",
   "execution_count": 31,
   "metadata": {},
   "outputs": [],
   "source": [
    "# Adding some variance to data points\n",
    "x += np.random.uniform(-5, 5, 50); y += np.random.uniform(-5, 5, 50)"
   ]
  },
  {
   "cell_type": "markdown",
   "metadata": {},
   "source": [
    "## Plotting the data points"
   ]
  },
  {
   "cell_type": "code",
   "execution_count": 32,
   "metadata": {},
   "outputs": [
    {
     "data": {
      "image/png": "[encoded data removed]",
      "text/plain": [
       "<Figure size 432x288 with 1 Axes>"
      ]
     },
     "metadata": {
      "needs_background": "light"
     },
     "output_type": "display_data"
    }
   ],
   "source": [
    "plt.scatter(x, y)\n",
    "plt.xlabel(\"x\"); plt.ylabel(\"y\")\n",
    "plt.title(\"Data Points\")\n",
    "plt.show()"
   ]
  },
  {
   "cell_type": "markdown",
   "metadata": {},
   "source": [
    "## Training Process\n",
    "\n",
    "Now we will start creating our model by defining the placeholders X and Y, so that we can feed our training examples X and Y into the optimizer during the training process."
   ]
  },
  {
   "cell_type": "code",
   "execution_count": 11,
   "metadata": {},
   "outputs": [],
   "source": [
    "X = tf.placeholder(\"float\"); Y =tf.placeholder(\"float\")"
   ]
  },
  {
   "cell_type": "code",
   "execution_count": 13,
   "metadata": {},
   "outputs": [],
   "source": [
    "# Initially we randomly assign weights and bias\n",
    "w = tf.Variable(np.random.randn(), name = \"w\")\n",
    "b = tf.Variable(np.random.randn(), name = \"b\")"
   ]
  },
  {
   "cell_type": "markdown",
   "metadata": {},
   "source": [
    "Now we will define the hyperparameters of the model, the Learning Rate and the number of Epochs."
   ]
  },
  {
   "cell_type": "code",
   "execution_count": 14,
   "metadata": {},
   "outputs": [],
   "source": [
    "learning_rate = 0.01\n",
    "training_epochs = 1000"
   ]
  },
  {
   "cell_type": "code",
   "execution_count": 26,
   "metadata": {},
   "outputs": [],
   "source": [
    "# Hypothesis\n",
    "y_pred = tf.add(tf.multiply(X,w), b)\n",
    "\n",
    "# Cost function\n",
    "cost = tf.reduce_sum(tf.pow(y_pred - Y, 2)) / (2*len(x))\n",
    "\n",
    "# Gradient Boost\n",
    "optimizer = tf.train.GradientDescentOptimizer(learning_rate).minimize(cost)\n",
    "\n",
    "# Global variable initializer\n",
    "init = tf.global_variables_initializer()"
   ]
  },
  {
   "cell_type": "markdown",
   "metadata": {},
   "source": [
    "Now we begin the training process"
   ]
  },
  {
   "cell_type": "code",
   "execution_count": 33,
   "metadata": {},
   "outputs": [
    {
     "name": "stdout",
     "output_type": "stream",
     "text": [
      "Epoch 50 : cost = 9.627223 W = 1.0055951 b = 0.3942251\n",
      "Epoch 100 : cost = 9.593199 W = 1.0015764 b = 0.5904001\n",
      "Epoch 150 : cost = 9.573628 W = 0.9979937 b = 0.7652986\n",
      "Epoch 200 : cost = 9.564734 W = 0.9947995 b = 0.9212307\n",
      "Epoch 250 : cost = 9.563605 W = 0.99195164 b = 1.0602521\n",
      "Epoch 300 : cost = 9.568003 W = 0.9894126 b = 1.1841966\n",
      "Epoch 350 : cost = 9.5762205 W = 0.9871489 b = 1.2947047\n",
      "Epoch 400 : cost = 9.586966 W = 0.9851308 b = 1.393222\n",
      "Epoch 450 : cost = 9.599257 W = 0.98333156 b = 1.4810561\n",
      "Epoch 500 : cost = 9.612372 W = 0.9817274 b = 1.5593644\n",
      "Epoch 550 : cost = 9.625782 W = 0.98029715 b = 1.6291847\n",
      "Epoch 600 : cost = 9.6391 W = 0.979022 b = 1.6914316\n",
      "Epoch 650 : cost = 9.652059 W = 0.9778851 b = 1.7469306\n",
      "Epoch 700 : cost = 9.664473 W = 0.97687155 b = 1.7964102\n",
      "Epoch 750 : cost = 9.676224 W = 0.9759679 b = 1.8405237\n",
      "Epoch 800 : cost = 9.687246 W = 0.9751623 b = 1.879849\n",
      "Epoch 850 : cost = 9.697504 W = 0.9744441 b = 1.9149098\n",
      "Epoch 900 : cost = 9.706993 W = 0.97380376 b = 1.9461671\n",
      "Epoch 950 : cost = 9.715726 W = 0.9732329 b = 1.9740336\n",
      "Epoch 1000 : cost = 9.723735 W = 0.972724 b = 1.9988819\n"
     ]
    }
   ],
   "source": [
    "with tf.Session() as sess: \n",
    "    \n",
    "    # Initializing the Variables \n",
    "    sess.run(init) \n",
    "      \n",
    "    # Iterating through all the epochs \n",
    "    for epoch in range(training_epochs): \n",
    "          \n",
    "        # Feeding each data point into the optimizer using Feed Dictionary \n",
    "        for (_x, _y) in zip(x, y): \n",
    "            sess.run(optimizer, feed_dict = {X : _x, Y : _y}) \n",
    "          \n",
    "        # Displaying the result after every 50 epochs \n",
    "        if (epoch + 1) % 50 == 0: \n",
    "            # Calculating the cost a every epoch \n",
    "            c = sess.run(cost, feed_dict = {X : x, Y : y}) \n",
    "            print(\"Epoch\", (epoch + 1), \": cost =\", c, \"W =\", sess.run(w), \"b =\", sess.run(b)) \n",
    "      \n",
    "    # Storing necessary values to be used outside the Session \n",
    "    training_cost = sess.run(cost, feed_dict ={X: x, Y: y}) \n",
    "    weight = sess.run(w)\n",
    "    bias = sess.run(b) "
   ]
  },
  {
   "cell_type": "markdown",
   "metadata": {},
   "source": [
    "## Looking at the results"
   ]
  },
  {
   "cell_type": "code",
   "execution_count": 34,
   "metadata": {},
   "outputs": [
    {
     "name": "stdout",
     "output_type": "stream",
     "text": [
      "Training cost =  9.723735 \n",
      "Weight =  0.972724 \n",
      "bias 1.9988819\n"
     ]
    }
   ],
   "source": [
    "predictions = (weight * x) + bias\n",
    "print(\"Training cost = \", training_cost, \"\\nWeight = \", weight, \"\\nbias\", bias)"
   ]
  },
  {
   "cell_type": "markdown",
   "metadata": {},
   "source": [
    "## Plotting the Results"
   ]
  },
  {
   "cell_type": "code",
   "execution_count": 36,
   "metadata": {},
   "outputs": [
    {
     "data": {
      "image/png": "[encoded data removed]",
      "text/plain": [
       "<Figure size 432x288 with 1 Axes>"
      ]
     },
     "metadata": {
      "needs_background": "light"
     },
     "output_type": "display_data"
    }
   ],
   "source": [
    "plt.plot(x, y, \"ro\", label = \"Data Points\")\n",
    "plt.plot(x, predictions, label = \"Fit\")\n",
    "plt.title(\"Linear Regression Result\")\n",
    "plt.legend()\n",
    "plt.show()"
   ]
  },
  {
   "cell_type": "code",
   "execution_count": null,
   "metadata": {},
   "outputs": [],
   "source": []
  }
 ],
 "metadata": {
  "kernelspec": {
   "display_name": "Python 3",
   "language": "python",
   "name": "python3"
  },
  "language_info": {
   "codemirror_mode": {
    "name": "ipython",
    "version": 3
   },
   "file_extension": ".py",
   "mimetype": "text/x-python",
   "name": "python",
   "nbconvert_exporter": "python",
   "pygments_lexer": "ipython3",
   "version": "3.7.6"
  }
 },
 "nbformat": 4,
 "nbformat_minor": 4
}
